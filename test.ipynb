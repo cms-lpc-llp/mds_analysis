{
 "cells": [
  {
   "cell_type": "code",
   "execution_count": 4,
   "metadata": {},
   "outputs": [],
   "source": [
    "import uproot as upr\n",
    "import numpy as np\n",
    "file_name=\"/home/psimmerl/LLP/mdc_analysis/data/raw/DisplacedJet-EXOCSCCluster_Run2022EFG-PromptReco-v1_goodLumi_v6.root\"\n",
    "tree_name=\"MuonSystem\"\n",
    "ms = upr.open(path=file_name + \":\" + tree_name)  # , array_cache='100 kB')\n",
    "# rd = upr.open(path=file_name)\n",
    "# ms = rd[tree_name]\n"
   ]
  },
  {
   "cell_type": "code",
   "execution_count": 5,
   "metadata": {},
   "outputs": [],
   "source": [
    "# ms.arrays([\"HLTDecision\"], cut=\"HLTDecision[569]\")"
   ]
  },
  {
   "cell_type": "code",
   "execution_count": 6,
   "metadata": {},
   "outputs": [
    {
     "name": "stdout",
     "output_type": "stream",
     "text": [
      "0\n"
     ]
    },
    {
     "ename": "KeyboardInterrupt",
     "evalue": "",
     "output_type": "error",
     "traceback": [
      "\u001b[0;31m---------------------------------------------------------------------------\u001b[0m",
      "\u001b[0;31mKeyboardInterrupt\u001b[0m                         Traceback (most recent call last)",
      "\u001b[1;32m/home/psimmerl/mdc_analysis/test.ipynb Cell 3\u001b[0m line \u001b[0;36m6\n\u001b[1;32m      <a href='vscode-notebook-cell://wsl%2Bubuntu/home/psimmerl/mdc_analysis/test.ipynb#W1sdnNjb2RlLXJlbW90ZQ%3D%3D?line=3'>4</a>\u001b[0m \u001b[39mprint\u001b[39m(i)\n\u001b[1;32m      <a href='vscode-notebook-cell://wsl%2Bubuntu/home/psimmerl/mdc_analysis/test.ipynb#W1sdnNjb2RlLXJlbW90ZQ%3D%3D?line=4'>5</a>\u001b[0m \u001b[39m# hlt = np.r_[hlt, ms[\"HLTDecision\"].array(entry_start=i*dev, entry_stop=(i+1)*dev)[:,569]]\u001b[39;00m\n\u001b[0;32m----> <a href='vscode-notebook-cell://wsl%2Bubuntu/home/psimmerl/mdc_analysis/test.ipynb#W1sdnNjb2RlLXJlbW90ZQ%3D%3D?line=5'>6</a>\u001b[0m hlt \u001b[39m=\u001b[39m np\u001b[39m.\u001b[39mr_[hlt, np\u001b[39m.\u001b[39mtake(ms[\u001b[39m\"\u001b[39;49m\u001b[39mHLTDecision\u001b[39;49m\u001b[39m\"\u001b[39;49m]\u001b[39m.\u001b[39;49marray(entry_start\u001b[39m=\u001b[39;49mi\u001b[39m*\u001b[39;49mdev, entry_stop\u001b[39m=\u001b[39;49m(i\u001b[39m+\u001b[39;49m\u001b[39m1\u001b[39;49m)\u001b[39m*\u001b[39;49mdev), \u001b[39m569\u001b[39m, \u001b[39m1\u001b[39m)]\n",
      "File \u001b[0;32m~/mambaforge/envs/ROOT/lib/python3.11/site-packages/uproot/behaviors/TBranch.py:1817\u001b[0m, in \u001b[0;36mTBranch.array\u001b[0;34m(self, interpretation, entry_start, entry_stop, decompression_executor, interpretation_executor, array_cache, library, ak_add_doc)\u001b[0m\n\u001b[1;32m   1814\u001b[0m                 ranges_or_baskets\u001b[39m.\u001b[39mappend((branch, basket_num, range_or_basket))\n\u001b[1;32m   1816\u001b[0m interp_options \u001b[39m=\u001b[39m {\u001b[39m\"\u001b[39m\u001b[39mak_add_doc\u001b[39m\u001b[39m\"\u001b[39m: ak_add_doc}\n\u001b[0;32m-> 1817\u001b[0m _ranges_or_baskets_to_arrays(\n\u001b[1;32m   1818\u001b[0m     \u001b[39mself\u001b[39;49m,\n\u001b[1;32m   1819\u001b[0m     ranges_or_baskets,\n\u001b[1;32m   1820\u001b[0m     branchid_interpretation,\n\u001b[1;32m   1821\u001b[0m     entry_start,\n\u001b[1;32m   1822\u001b[0m     entry_stop,\n\u001b[1;32m   1823\u001b[0m     decompression_executor,\n\u001b[1;32m   1824\u001b[0m     interpretation_executor,\n\u001b[1;32m   1825\u001b[0m     library,\n\u001b[1;32m   1826\u001b[0m     arrays,\n\u001b[1;32m   1827\u001b[0m     \u001b[39mFalse\u001b[39;49;00m,\n\u001b[1;32m   1828\u001b[0m     interp_options,\n\u001b[1;32m   1829\u001b[0m )\n\u001b[1;32m   1831\u001b[0m _fix_asgrouped(\n\u001b[1;32m   1832\u001b[0m     arrays,\n\u001b[1;32m   1833\u001b[0m     expression_context,\n\u001b[0;32m   (...)\u001b[0m\n\u001b[1;32m   1837\u001b[0m     ak_add_doc,\n\u001b[1;32m   1838\u001b[0m )\n\u001b[1;32m   1840\u001b[0m \u001b[39mif\u001b[39;00m array_cache \u001b[39mis\u001b[39;00m \u001b[39mnot\u001b[39;00m \u001b[39mNone\u001b[39;00m:\n",
      "File \u001b[0;32m~/mambaforge/envs/ROOT/lib/python3.11/site-packages/uproot/behaviors/TBranch.py:3138\u001b[0m, in \u001b[0;36m_ranges_or_baskets_to_arrays\u001b[0;34m(hasbranches, ranges_or_baskets, branchid_interpretation, entry_start, entry_stop, decompression_executor, interpretation_executor, library, arrays, update_ranges_or_baskets, interp_options)\u001b[0m\n\u001b[1;32m   3136\u001b[0m \u001b[39mif\u001b[39;00m \u001b[39misinstance\u001b[39m(obj, uproot\u001b[39m.\u001b[39msource\u001b[39m.\u001b[39mchunk\u001b[39m.\u001b[39mChunk):\n\u001b[1;32m   3137\u001b[0m     args \u001b[39m=\u001b[39m range_args[(obj\u001b[39m.\u001b[39mstart, obj\u001b[39m.\u001b[39mstop)]\n\u001b[0;32m-> 3138\u001b[0m     decompression_executor\u001b[39m.\u001b[39;49msubmit(chunk_to_basket, obj, \u001b[39m*\u001b[39;49margs)\n\u001b[1;32m   3140\u001b[0m \u001b[39melif\u001b[39;00m \u001b[39misinstance\u001b[39m(obj, uproot\u001b[39m.\u001b[39mmodels\u001b[39m.\u001b[39mTBasket\u001b[39m.\u001b[39mModel_TBasket):\n\u001b[1;32m   3141\u001b[0m     interpretation_executor\u001b[39m.\u001b[39msubmit(basket_to_array, obj)\n",
      "File \u001b[0;32m~/mambaforge/envs/ROOT/lib/python3.11/site-packages/uproot/source/futures.py:73\u001b[0m, in \u001b[0;36mTrivialExecutor.submit\u001b[0;34m(self, task, *args)\u001b[0m\n\u001b[1;32m     69\u001b[0m \u001b[39mdef\u001b[39;00m \u001b[39msubmit\u001b[39m(\u001b[39mself\u001b[39m, task, \u001b[39m*\u001b[39margs):\n\u001b[1;32m     70\u001b[0m \u001b[39m    \u001b[39m\u001b[39m\"\"\"\u001b[39;00m\n\u001b[1;32m     71\u001b[0m \u001b[39m    Immediately runs ``task(*args)``.\u001b[39;00m\n\u001b[1;32m     72\u001b[0m \u001b[39m    \"\"\"\u001b[39;00m\n\u001b[0;32m---> 73\u001b[0m     \u001b[39mreturn\u001b[39;00m TrivialFuture(task(\u001b[39m*\u001b[39;49margs))\n",
      "File \u001b[0;32m~/mambaforge/envs/ROOT/lib/python3.11/site-packages/uproot/behaviors/TBranch.py:3060\u001b[0m, in \u001b[0;36m_ranges_or_baskets_to_arrays.<locals>.chunk_to_basket\u001b[0;34m(chunk, branch, basket_num)\u001b[0m\n\u001b[1;32m   3058\u001b[0m \u001b[39mtry\u001b[39;00m:\n\u001b[1;32m   3059\u001b[0m     cursor \u001b[39m=\u001b[39m uproot\u001b[39m.\u001b[39msource\u001b[39m.\u001b[39mcursor\u001b[39m.\u001b[39mCursor(chunk\u001b[39m.\u001b[39mstart)\n\u001b[0;32m-> 3060\u001b[0m     basket \u001b[39m=\u001b[39m uproot\u001b[39m.\u001b[39;49mmodels\u001b[39m.\u001b[39;49mTBasket\u001b[39m.\u001b[39;49mModel_TBasket\u001b[39m.\u001b[39;49mread(\n\u001b[1;32m   3061\u001b[0m         chunk,\n\u001b[1;32m   3062\u001b[0m         cursor,\n\u001b[1;32m   3063\u001b[0m         {\u001b[39m\"\u001b[39;49m\u001b[39mbasket_num\u001b[39;49m\u001b[39m\"\u001b[39;49m: basket_num},\n\u001b[1;32m   3064\u001b[0m         hasbranches\u001b[39m.\u001b[39;49m_file,\n\u001b[1;32m   3065\u001b[0m         hasbranches\u001b[39m.\u001b[39;49m_file,\n\u001b[1;32m   3066\u001b[0m         branch,\n\u001b[1;32m   3067\u001b[0m     )\n\u001b[1;32m   3068\u001b[0m     original_index \u001b[39m=\u001b[39m range_original_index[(chunk\u001b[39m.\u001b[39mstart, chunk\u001b[39m.\u001b[39mstop)]\n\u001b[1;32m   3069\u001b[0m     \u001b[39mif\u001b[39;00m update_ranges_or_baskets:\n",
      "File \u001b[0;32m~/mambaforge/envs/ROOT/lib/python3.11/site-packages/uproot/model.py:860\u001b[0m, in \u001b[0;36mModel.read\u001b[0;34m(cls, chunk, cursor, context, file, selffile, parent, concrete)\u001b[0m\n\u001b[1;32m    851\u001b[0m     \u001b[39mif\u001b[39;00m forth_stash \u001b[39mis\u001b[39;00m \u001b[39mnot\u001b[39;00m \u001b[39mNone\u001b[39;00m:\n\u001b[1;32m    852\u001b[0m         forth_obj\u001b[39m.\u001b[39madd_node(\n\u001b[1;32m    853\u001b[0m             \u001b[39m\"\u001b[39m\u001b[39mmodel828\u001b[39m\u001b[39m\"\u001b[39m,\n\u001b[1;32m    854\u001b[0m             forth_stash\u001b[39m.\u001b[39mget_attrs(),\n\u001b[0;32m   (...)\u001b[0m\n\u001b[1;32m    857\u001b[0m             {},\n\u001b[1;32m    858\u001b[0m         )\n\u001b[0;32m--> 860\u001b[0m     \u001b[39mself\u001b[39;49m\u001b[39m.\u001b[39;49mread_members(chunk, cursor, context, file)\n\u001b[1;32m    861\u001b[0m     \u001b[39mself\u001b[39m\u001b[39m.\u001b[39mhook_after_read_members(\n\u001b[1;32m    862\u001b[0m         chunk\u001b[39m=\u001b[39mchunk, cursor\u001b[39m=\u001b[39mcursor, context\u001b[39m=\u001b[39mcontext, file\u001b[39m=\u001b[39mfile\n\u001b[1;32m    863\u001b[0m     )\n\u001b[1;32m    865\u001b[0m \u001b[39mself\u001b[39m\u001b[39m.\u001b[39mcheck_numbytes(chunk, cursor, context)\n",
      "File \u001b[0;32m~/mambaforge/envs/ROOT/lib/python3.11/site-packages/uproot/models/TBasket.py:291\u001b[0m, in \u001b[0;36mModel_TBasket.read_members\u001b[0;34m(self, chunk, cursor, context, file)\u001b[0m\n\u001b[1;32m    289\u001b[0m \u001b[39mif\u001b[39;00m compressed_bytes \u001b[39m!=\u001b[39m uncompressed_bytes:\n\u001b[1;32m    290\u001b[0m     \u001b[39mself\u001b[39m\u001b[39m.\u001b[39m_block_compression_info \u001b[39m=\u001b[39m []\n\u001b[0;32m--> 291\u001b[0m     uncompressed \u001b[39m=\u001b[39m uproot\u001b[39m.\u001b[39;49mcompression\u001b[39m.\u001b[39;49mdecompress(\n\u001b[1;32m    292\u001b[0m         chunk,\n\u001b[1;32m    293\u001b[0m         cursor,\n\u001b[1;32m    294\u001b[0m         {},\n\u001b[1;32m    295\u001b[0m         compressed_bytes,\n\u001b[1;32m    296\u001b[0m         uncompressed_bytes,\n\u001b[1;32m    297\u001b[0m         \u001b[39mself\u001b[39;49m\u001b[39m.\u001b[39;49m_block_compression_info,\n\u001b[1;32m    298\u001b[0m     )\n\u001b[1;32m    299\u001b[0m     \u001b[39mself\u001b[39m\u001b[39m.\u001b[39m_block_compression_info \u001b[39m=\u001b[39m \u001b[39mtuple\u001b[39m(\u001b[39mself\u001b[39m\u001b[39m.\u001b[39m_block_compression_info)\n\u001b[1;32m    300\u001b[0m     \u001b[39mself\u001b[39m\u001b[39m.\u001b[39m_raw_data \u001b[39m=\u001b[39m uncompressed\u001b[39m.\u001b[39mget(\n\u001b[1;32m    301\u001b[0m         \u001b[39m0\u001b[39m,\n\u001b[1;32m    302\u001b[0m         uncompressed_bytes,\n\u001b[1;32m    303\u001b[0m         uproot\u001b[39m.\u001b[39msource\u001b[39m.\u001b[39mcursor\u001b[39m.\u001b[39mCursor(\u001b[39m0\u001b[39m),\n\u001b[1;32m    304\u001b[0m         context,\n\u001b[1;32m    305\u001b[0m     )\n",
      "File \u001b[0;32m~/mambaforge/envs/ROOT/lib/python3.11/site-packages/uproot/compression.py:343\u001b[0m, in \u001b[0;36mdecompress\u001b[0;34m(chunk, cursor, context, compressed_bytes, uncompressed_bytes, block_info)\u001b[0m\n\u001b[1;32m    340\u001b[0m num_blocks \u001b[39m=\u001b[39m \u001b[39m0\u001b[39m\n\u001b[1;32m    342\u001b[0m \u001b[39mwhile\u001b[39;00m cursor\u001b[39m.\u001b[39mdisplacement(start) \u001b[39m<\u001b[39m compressed_bytes:\n\u001b[0;32m--> 343\u001b[0m     decompress\u001b[39m.\u001b[39;49mhook_before_block(\n\u001b[1;32m    344\u001b[0m         chunk\u001b[39m=\u001b[39;49mchunk,\n\u001b[1;32m    345\u001b[0m         cursor\u001b[39m=\u001b[39;49mcursor,\n\u001b[1;32m    346\u001b[0m         context\u001b[39m=\u001b[39;49mcontext,\n\u001b[1;32m    347\u001b[0m         compressed_bytes\u001b[39m=\u001b[39;49mcompressed_bytes,\n\u001b[1;32m    348\u001b[0m         uncompressed_bytes\u001b[39m=\u001b[39;49muncompressed_bytes,\n\u001b[1;32m    349\u001b[0m         start\u001b[39m=\u001b[39;49mstart,\n\u001b[1;32m    350\u001b[0m         filled\u001b[39m=\u001b[39;49mfilled,\n\u001b[1;32m    351\u001b[0m         num_blocks\u001b[39m=\u001b[39;49mnum_blocks,\n\u001b[1;32m    352\u001b[0m     )\n\u001b[1;32m    354\u001b[0m     \u001b[39m# https://github.com/root-project/root/blob/master/core/zip/src/RZip.cxx#L217\u001b[39;00m\n\u001b[1;32m    355\u001b[0m     \u001b[39m# https://github.com/root-project/root/blob/master/core/lzma/src/ZipLZMA.c#L81\u001b[39;00m\n\u001b[1;32m    356\u001b[0m     \u001b[39m# https://github.com/root-project/root/blob/master/core/lz4/src/ZipLZ4.cxx#L38\u001b[39;00m\n\u001b[1;32m    357\u001b[0m     algo, method, c1, c2, c3, u1, u2, u3 \u001b[39m=\u001b[39m cursor\u001b[39m.\u001b[39mfields(\n\u001b[1;32m    358\u001b[0m         chunk, _decompress_header_format, context\n\u001b[1;32m    359\u001b[0m     )\n",
      "File \u001b[0;32m~/mambaforge/envs/ROOT/lib/python3.11/site-packages/uproot/compression.py:467\u001b[0m, in \u001b[0;36mhook_before_block\u001b[0;34m(**kwargs)\u001b[0m\n\u001b[1;32m    452\u001b[0m         decompress\u001b[39m.\u001b[39mhook_after_block(\n\u001b[1;32m    453\u001b[0m             chunk\u001b[39m=\u001b[39mchunk,\n\u001b[1;32m    454\u001b[0m             cursor\u001b[39m=\u001b[39mcursor,\n\u001b[0;32m   (...)\u001b[0m\n\u001b[1;32m    461\u001b[0m             output\u001b[39m=\u001b[39moutput,\n\u001b[1;32m    462\u001b[0m         )\n\u001b[1;32m    464\u001b[0m     \u001b[39mreturn\u001b[39;00m uproot\u001b[39m.\u001b[39msource\u001b[39m.\u001b[39mchunk\u001b[39m.\u001b[39mChunk\u001b[39m.\u001b[39mwrap(chunk\u001b[39m.\u001b[39msource, output)\n\u001b[0;32m--> 467\u001b[0m \u001b[39mdef\u001b[39;00m \u001b[39mhook_before_block\u001b[39m(\u001b[39m*\u001b[39m\u001b[39m*\u001b[39mkwargs):\n\u001b[1;32m    468\u001b[0m     \u001b[39mpass\u001b[39;00m\n\u001b[1;32m    471\u001b[0m \u001b[39mdef\u001b[39;00m \u001b[39mhook_after_block\u001b[39m(\u001b[39m*\u001b[39m\u001b[39m*\u001b[39mkwargs):\n",
      "\u001b[0;31mKeyboardInterrupt\u001b[0m: "
     ]
    },
    {
     "ename": "",
     "evalue": "",
     "output_type": "error",
     "traceback": [
      "\u001b[1;31mThe Kernel crashed while executing code in the the current cell or a previous cell. Please review the code in the cell(s) to identify a possible cause of the failure. Click <a href='https://aka.ms/vscodeJupyterKernelCrash'>here</a> for more info. View Jupyter <a href='command:jupyter.viewOutput'>log</a> for further details."
     ]
    }
   ],
   "source": [
    "nev, dev = 15_000_000, 250_000\n",
    "hlt = np.array([], dtype=bool)\n",
    "for i in range(0, nev//dev + 1):\n",
    "    print(i)\n",
    "    # hlt = np.r_[hlt, ms[\"HLTDecision\"].array(entry_start=i*dev, entry_stop=(i+1)*dev)[:,569]]\n",
    "    hlt = np.r_[hlt, np.take(ms[\"HLTDecision\"].array(entry_start=i*dev, entry_stop=(i+1)*dev), 569, 1)]"
   ]
  },
  {
   "cell_type": "code",
   "execution_count": null,
   "metadata": {},
   "outputs": [
    {
     "data": {
      "text/plain": [
       "(14597375,)"
      ]
     },
     "execution_count": 4,
     "metadata": {},
     "output_type": "execute_result"
    }
   ],
   "source": [
    "hlt.shape"
   ]
  },
  {
   "cell_type": "code",
   "execution_count": null,
   "metadata": {},
   "outputs": [
    {
     "data": {
      "text/plain": [
       "array([False, False, False, ..., False, False, False])"
      ]
     },
     "execution_count": 5,
     "metadata": {},
     "output_type": "execute_result"
    }
   ],
   "source": [
    "hlt"
   ]
  }
 ],
 "metadata": {
  "kernelspec": {
   "display_name": "ROOT",
   "language": "python",
   "name": "python3"
  },
  "language_info": {
   "codemirror_mode": {
    "name": "ipython",
    "version": 3
   },
   "file_extension": ".py",
   "mimetype": "text/x-python",
   "name": "python",
   "nbconvert_exporter": "python",
   "pygments_lexer": "ipython3",
   "version": "3.11.4"
  },
  "orig_nbformat": 4
 },
 "nbformat": 4,
 "nbformat_minor": 2
}

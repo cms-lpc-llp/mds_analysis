{
 "cells": [
  {
   "cell_type": "markdown",
   "metadata": {},
   "source": [
    "# Limit Optimization\n",
    "\n",
    "optimize branching ratio limit for ABCD background estimation\n",
    "find cuts that optimize limit -> what features does the limit depend on\n",
    "but we know the limit = f(dPhi, dtSize; signal, data)\n",
    "so we need to avoid cuts that \n",
    "so we can find correlations with dPhi & dtSize\n",
    "\n",
    "step one:\n",
    "find the features the limit depends on \n",
    "options:\n",
    "\n",
    "---\n",
    "target: limit (= f(dPhi, dtSize ; signal, data))\n",
    "\n",
    "features:\n",
    "\n",
    "---\n",
    "settings:\n",
    "\n"
   ]
  },
  {
   "cell_type": "code",
   "execution_count": null,
   "metadata": {},
   "outputs": [],
   "source": [
    "# Imports and Global Settings (don't touch)\n",
    "import ROOT as rt\n",
    "\n",
    "assert setting = default_setting"
   ]
  },
  {
   "cell_type": "code",
   "execution_count": null,
   "metadata": {},
   "outputs": [],
   "source": [
    "# Options for the Analysis\n",
    "MUONSYSTEMS: (\"Signal\", \"Data\")#, \"Data (DT OOT)\")\n",
    "BDT_SIG_MS = \"Signal\"\n",
    "BDT_BKG_MS = \"Data\"\n",
    "\n",
    "CUTS = True # default argument for MuonSystem Class\n",
    "CUTS = (\n",
    "    \"HLT\",\n",
    "    \"L1\",\n",
    ")"
   ]
  },
  {
   "cell_type": "code",
   "execution_count": null,
   "metadata": {},
   "outputs": [],
   "source": [
    "# Build MuonSystems and apply trigger level cut\n",
    "\n"
   ]
  },
  {
   "cell_type": "code",
   "execution_count": null,
   "metadata": {},
   "outputs": [],
   "source": [
    "# find feature correlations with dtSize, dPhi"
   ]
  },
  {
   "cell_type": "code",
   "execution_count": null,
   "metadata": {},
   "outputs": [],
   "source": [
    "# remove "
   ]
  }
 ],
 "metadata": {
  "kernelspec": {
   "display_name": "ROOT",
   "language": "python",
   "name": "python3"
  },
  "language_info": {
   "name": "python",
   "version": "3.11.4"
  }
 },
 "nbformat": 4,
 "nbformat_minor": 2
}

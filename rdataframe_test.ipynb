{
 "cells": [
  {
   "cell_type": "code",
   "execution_count": 1,
   "metadata": {},
   "outputs": [
    {
     "name": "stderr",
     "output_type": "stream",
     "text": [
      "/home/psimmerl/mambaforge/envs/ROOT/etc/cling/std.modulemap:257:29: warning: unknown attribute 'optional' [-Wignored-attributes]\n",
      "  module \"memory_resource\" [optional] {\n",
      "                            ^\n",
      "/home/psimmerl/mambaforge/envs/ROOT/etc/cling/std.modulemap:447:27: warning: unknown attribute 'optional' [-Wignored-attributes]\n",
      "  module \"bits/chrono.h\" [optional] {\n",
      "                          ^\n",
      "/home/psimmerl/mambaforge/envs/ROOT/etc/cling/std.modulemap:531:41: warning: unknown attribute 'optional' [-Wignored-attributes]\n",
      "  explicit module \"bits_ranges_base_h\" [optional] {\n",
      "                                        ^\n",
      "/home/psimmerl/mambaforge/envs/ROOT/etc/cling/std.modulemap:538:32: warning: unknown attribute 'optional' [-Wignored-attributes]\n",
      "  module \"bits/ranges_util.h\" [optional] {\n",
      "                               ^\n",
      "/home/psimmerl/mambaforge/envs/ROOT/etc/cling/std.modulemap:559:40: warning: unknown attribute 'optional' [-Wignored-attributes]\n",
      "  module \"bits/uses_allocator_args.h\" [optional] {\n",
      "                                       ^\n"
     ]
    },
    {
     "name": "stdout",
     "output_type": "stream",
     "text": [
      "Welcome to JupyROOT 6.28/04\n"
     ]
    }
   ],
   "source": [
    "import pathlib\n",
    "from os import uname\n",
    "\n",
    "import numpy as np\n",
    "import ROOT as rt\n",
    "from math import ceil, floor\n",
    "\n",
    "from src import CMS_lumi, tdrstyle\n",
    "\n",
    "# from sklearn.metrics import roc_auc_score  # , roc_curve\n",
    "# from sklearn.model_selection import train_test_split\n",
    "# from sklearn.preprocessing import StandardScaler\n",
    "# from sklearn.ensemble import GradientBoostingClassifier  # , RandomForestClassifier\n",
    "\n",
    "OUT_DIR = \"reports/weekly/2023-09-14\"\n",
    "T2_OUT_DIR = \"/storage/af/user/psimmerl/LLP/mdc_analysis\"  # os.getcwd()\n",
    "LOCAL_OUT_DIR = \"/home/psimmerl/LLP/mdc_analysis\"  # os.getcwd()\n",
    "\n",
    "DATA_VERSION = \"6\"\n",
    "LUMI = 23.02 * 1000\n",
    "\n",
    "T2_DATA_DIR = \"/storage/cms/store/user/christiw/displacedJetMuonAnalyzer/Run3/V1p19\"\n",
    "LOCAL_DATA_DIR = \"/home/psimmerl/LLP/mdc_analysis/data/raw\"  # os.getcwd() + \"/data/raw\"\n",
    "DATA_DIR = \"TIER2\" if \"caltech\" in uname()[1] else \"LOCAL\"\n",
    "\n",
    "FN_MC = \"ggH_HToSSTobbbb_MH-125_MS-15_CTau1000_13p6TeV_1pb_weighted\"\n",
    "FN_R3 = \"DisplacedJet-EXOCSCCluster_Run2022EFG-PromptReco-v1_goodLumi\"\n",
    "\n",
    "ROOT_ERROR_LEVEL = 1001  # rt.kInfo + 1\n",
    "BOT_MARGIN, TOP_MARGIN = 0.025, 0.1\n",
    "gc = []\n",
    "\n",
    "# **************************** #\n",
    "if \"TIER2\" in DATA_DIR:\n",
    "    OUT_DIR = f\"{T2_OUT_DIR}/{OUT_DIR}\"\n",
    "    FN_MC = f\"{T2_DATA_DIR}/MC_Summer22EE/v1/sixie/v{DATA_VERSION}/normalized/{FN_R3}.root\"\n",
    "    FN_R3 = f\"{T2_DATA_DIR}/Data2022/v{DATA_VERSION}/normalized/{FN_R3}.root\"\n",
    "else:\n",
    "    OUT_DIR = f\"{LOCAL_OUT_DIR}/{OUT_DIR}\"\n",
    "    FN_MC = f\"{LOCAL_DATA_DIR}/{FN_MC}_v{DATA_VERSION}.root\"\n",
    "    FN_R3 = f\"{LOCAL_DATA_DIR}/{FN_R3}_v{DATA_VERSION}.root\"\n",
    "pathlib.Path(OUT_DIR).mkdir(parents=True, exist_ok=True)\n",
    "# **************************** #\n",
    "rt.gErrorIgnoreLevel = ROOT_ERROR_LEVEL\n",
    "# rt.gROOT.SetBatch(True)\n",
    "tdrstyle.setTDRStyle()\n",
    "CMS_lumi.writeExtraText = 0\n",
    "\n",
    "\n",
    "# **************************** #\n",
    "def histo1d(rdfs, vals, filters=None, styles=None):\n",
    "    pass"
   ]
  },
  {
   "cell_type": "code",
   "execution_count": 5,
   "metadata": {},
   "outputs": [],
   "source": [
    "# ms_mc = MuonSystemAwkward(FN_MC, name=\"Signal\", nev=N_EVENTS, is_mc=True, lumi=LUMI)\n",
    "rdfn, save = \"mc\", True\n",
    "rdf = rt.RDataFrame(\"MuonSystem\", FN_MC if rdfn == \"mc\" else FN_R3)\n",
    "columns = [n for n in rdf.GetColumnNames()]\n",
    "columns.remove(\"HLTDecision\")\n",
    "rdf = rdf.Filter(\"HLTDecision[569] && (nCscRechitClusters > 0 || nDtRechitClusters > 0)\")\n",
    "if save:\n",
    "    rdf.Snapshot(\"MuonSystem_HLT569\", f\"data/processed/{rdfn}_hlt569.rdf\", )"
   ]
  },
  {
   "cell_type": "code",
   "execution_count": null,
   "metadata": {},
   "outputs": [
    {
     "ename": "",
     "evalue": "",
     "output_type": "error",
     "traceback": [
      "\u001b[1;31mThe Kernel crashed while executing code in the the current cell or a previous cell. Please review the code in the cell(s) to identify a possible cause of the failure. Click <a href='https://aka.ms/vscodeJupyterKernelCrash'>here</a> for more info. View Jupyter <a href='command:jupyter.viewOutput'>log</a> for further details."
     ]
    }
   ],
   "source": [
    "# ms_mc = MuonSystemAwkward(FN_MC, name=\"Signal\", nev=N_EVENTS, is_mc=True, lumi=LUMI)\n",
    "rdfn, save = \"r3\", True\n",
    "rdf = rt.RDataFrame(\"MuonSystem\", FN_MC if rdfn == \"mc\" else FN_R3)\n",
    "columns = [n for n in rdf.GetColumnNames()]\n",
    "columns.remove(\"HLTDecision\")\n",
    "rdf = rdf.Filter(\"HLTDecision[569] && (nCscRechitClusters > 0 || nDtRechitClusters > 0)\")\n",
    "if save:\n",
    "    rdf.Snapshot(\"MuonSystem_HLT569\", f\"data/processed/{rdfn}_hlt569.rdf\")"
   ]
  },
  {
   "cell_type": "code",
   "execution_count": null,
   "metadata": {},
   "outputs": [],
   "source": [
    "%%time\n",
    "print(f\"total CSC RechitSize = {rdf.Sum('cscRechitClusterSize').GetValue():,.0f}\")\n",
    "\n",
    "icl, sum_size = 0, 1\n",
    "while sum_size > 0:\n",
    "    sum_size = rdf.Redefine(\"cscRechitClusterSize\", f\"cscRechitClusterSize[{icl}]\")\n",
    "    sum_size = sum_size.Sum(\"cscRechitClusterSize\").GetValue()\n",
    "    print(f\"{icl} | {sum_size:,.0f}\")\n",
    "    icl+=1"
   ]
  },
  {
   "cell_type": "code",
   "execution_count": null,
   "metadata": {},
   "outputs": [],
   "source": [
    "%%time\n",
    "csc_vN = lambda v,n: f\"return (nCscRechitClusters > {n}) ? cscRechitCluster{v}[{n}] : 0;\"\n",
    "dt_vN = lambda v,n: f\"return (nCscRechitClusters > {n}) ? dtRechitCluster{v}[{n}] : 0;\"\n",
    "print(f\"total CSC RechitSize = {rdf.Sum('cscRechitClusterSize').GetValue():,.0f}\")\n",
    "\n",
    "icl, sum_size = 0, 1\n",
    "while sum_size > 0:\n",
    "    sum_size = rdf.Redefine(\"cscRechitClusterSize\", csc_vN(\"Size\", icl))\n",
    "    sum_size = sum_size.Sum(\"cscRechitClusterSize\").GetValue()\n",
    "    print(f\"{icl} | {sum_size:,.0f}\")\n",
    "    icl+=1"
   ]
  },
  {
   "cell_type": "code",
   "execution_count": null,
   "metadata": {},
   "outputs": [],
   "source": [
    "%%time\n",
    "csc_vN = lambda v,n: f\"return (nCscRechitClusters > {n}) ? cscRechitCluster{v}[{n}] : 0;\"\n",
    "dt_vN = lambda v,n: f\"return (nCscRechitClusters > {n}) ? dtRechitCluster{v}[{n}] : 0;\"\n",
    "print(f\"total CSC RechitSize = {rdf.Sum('cscRechitClusterSize').GetValue():,.0f}\")\n",
    "\n",
    "icl, sum_sizes = 0, []\n",
    "while len(sum_sizes)==0 or sum_sizes[-1] > 0:\n",
    "    for _icl in range(icl, icl+10):\n",
    "        sum_sizes.append(rdf.Redefine(\"cscRechitClusterSize\", csc_vN(\"Size\", _icl)).Sum(\"cscRechitClusterSize\"))\n",
    "    for _icl in range(icl, _icl+1):\n",
    "        sum_sizes[_icl] = sum_sizes[_icl].GetValue()\n",
    "        if sum_sizes[_icl] > 0:\n",
    "            print(f\"{_icl} | {sum_sizes[_icl]}\")\n",
    "    icl = _icl + 1\n"
   ]
  },
  {
   "cell_type": "code",
   "execution_count": null,
   "metadata": {},
   "outputs": [],
   "source": [
    "canvas = rt.TCanvas(\"c\", \"c\", 800, 800)\n",
    "h1 = rdf.Histo1D((\"\", \"\", 50, 50, 200), \"dtRechitClusterSize\")\n",
    "h1.Fit(\"expo\")\n",
    "h1.Draw()\n",
    "canvas.SetLogy()\n",
    "canvas.SetGrid()\n",
    "canvas.Draw()"
   ]
  },
  {
   "cell_type": "code",
   "execution_count": null,
   "metadata": {},
   "outputs": [],
   "source": [
    "# How do RDF's create 2D histograms of multidimensional RVectors\n",
    "    # elementwise-- A,B : a00&b00, a01&b01, ..., a0N&b0N, a10&b10, ..., aMN&bMN, etc\n",
    "canvas = rt.TCanvas(\"c\", \"c\", 800, 800)\n",
    "h2 = rdf.Histo2D((\"\", \"\", 50, 100, 300, 50, 100, 300), \"cscRechitClusterSize\", \"cscRechitClusterSize\")\n",
    "h2.Draw(\"colz\")\n",
    "# canvas.SetLogz()\n",
    "canvas.SetGrid()\n",
    "canvas.Draw()"
   ]
  },
  {
   "cell_type": "code",
   "execution_count": null,
   "metadata": {},
   "outputs": [],
   "source": [
    "canvas = rt.TCanvas(\"c\", \"c\", 800, 800)\n",
    "h2 = rdf.Histo2D((\"\", \"\", 50, 50, 200, 16, -np.pi, np.pi), \"dtRechitClusterSize\", \"dtRechitClusterPhi\")\n",
    "h2.Draw(\"colz\")\n",
    "canvas.SetLogz()\n",
    "canvas.SetGrid()\n",
    "canvas.Draw()"
   ]
  },
  {
   "cell_type": "code",
   "execution_count": null,
   "metadata": {},
   "outputs": [],
   "source": [
    "canvas = rt.TCanvas(\"c\", \"c\", 800, 800)\n",
    "h2 = rdf.Histo2D((\"\", \"\", 50, 50, 200, 50, 100, 300), \"met\", \"cscRechitClusterSize\")\n",
    "h2.Draw(\"colz\")\n",
    "canvas.SetLogz()\n",
    "canvas.SetGrid()\n",
    "canvas.Draw()"
   ]
  },
  {
   "cell_type": "code",
   "execution_count": null,
   "metadata": {},
   "outputs": [],
   "source": [
    "canvas = rt.TCanvas(\"c\", \"c\", 800, 800)\n",
    "h2 = rdf.Histo2D((\"\", \"\", 50, 50, 200, 50, 100, 300), \"dtRechitClusterSize\", \"cscRechitClusterSize\")\n",
    "h2.Draw(\"colz\")\n",
    "canvas.SetLogz()\n",
    "canvas.SetGrid()\n",
    "canvas.Draw()"
   ]
  }
 ],
 "metadata": {
  "kernelspec": {
   "display_name": "ROOT",
   "language": "python",
   "name": "python3"
  },
  "language_info": {
   "codemirror_mode": {
    "name": "ipython",
    "version": 3
   },
   "file_extension": ".py",
   "mimetype": "text/x-python",
   "name": "python",
   "nbconvert_exporter": "python",
   "pygments_lexer": "ipython3",
   "version": "3.11.4"
  },
  "orig_nbformat": 4
 },
 "nbformat": 4,
 "nbformat_minor": 2
}

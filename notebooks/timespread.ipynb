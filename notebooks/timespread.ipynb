{
 "cells": [
  {
   "cell_type": "code",
   "execution_count": 1,
   "metadata": {},
   "outputs": [
    {
     "name": "stdout",
     "output_type": "stream",
     "text": [
      "Welcome to JupyROOT 6.30/04\n"
     ]
    }
   ],
   "source": [
    "import os\n",
    "import numpy as np\n",
    "import scipy as sp\n",
    "import numba as nb\n",
    "\n",
    "import ROOT as rt\n",
    "from ROOT import TCanvas, TH1D, TH2D, TGraph, TGraphErrors, TLegend, TLatex, TLine, TBox, RDataFrame\n",
    "\n",
    "#####\n",
    "rt.EnableImplicitMT(4)\n",
    "\n",
    "gc = []\n",
    "std_color_list = [1, 2, 4, 8, 6, 28, 43, 7, 25, 36, 30, 40, 42, 49, 46, 38, 32, 800, 600, 900, 870, 840]\n",
    "\n",
    "#####\n",
    "\n",
    "DATA_DIR = \"/home/psimmerl/mds_analysis/data\"\n",
    "\n",
    "fn_signal = f\"{DATA_DIR}/raw/mc_pedro.root\"\n",
    "fn_data = f\"{DATA_DIR}/raw/data_pedro.root\"\n",
    "\n",
    "\n"
   ]
  },
  {
   "cell_type": "code",
   "execution_count": null,
   "metadata": {},
   "outputs": [],
   "source": [
    "MAX_CSC_JET_PT = 30\n",
    "MAX_DT_JET_PT = 30\n",
    "\n",
    "MAX_CSC_MUON_PT = 10\n",
    "MAX_DT_MUON_PT = 10\n",
    "\n",
    "MIN_DNN = 0.96\n",
    "\n",
    "################\n",
    "\n",
    "rdfs = {\n",
    "    \"signal\" : RDataFrame(\"MuonSystem\", fn_signal),\n",
    "    \"data\" : RDataFrame(\"MuonSystem\", fn_data),\n",
    "}\n",
    "\n",
    "################\n",
    "C, D = \"cscRechitCluster\", \"dtRechitCluster\"\n",
    "\n",
    "csc_gllp_req = \"\"\"{C}_match_gLLP\n",
    "&& (abs({C}_match_gLLP_eta) < 3)\n",
    "&& ({C}_match_gLLP_decay_r < 800)\n",
    "&& (400 < abs({C}_match_gLLP_decay_z))\n",
    "&& (abs({C}_match_gLLP_decay_z) < 1200)\"\"\".replace(\"{C}\", C)\n",
    "\n",
    "dt_gllp_req = \"\"\"{D}_match_gLLP\n",
    "&& (200 < {D}_match_gLLP_decay_r)\n",
    "&& ({D}_match_gLLP_decay_r < 800)\n",
    "&& (abs({D}_match_gLLP_decay_z) < 700)\"\"\".replace(\"{D}\", D)\n",
    "\n",
    "l1_plateau_req = \"\"\"\n",
    "auto me11 = (100 < {C}R) && ({C}R < 275) && ( 580 < abs({C}Z)) && (abs({C}Z) <  632) && (500 <= {C}Size);\n",
    "auto me12 = (275 < {C}R) && ({C}R < 465) && ( 668 < abs({C}Z)) && (abs({C}Z) <  724) && (200 <= {C}Size);\n",
    "auto me13 = (505 < {C}R) && ({C}R < 700) && ( 668 < abs({C}Z)) && (abs({C}Z) <  724) && (200 <= {C}Size);\n",
    "auto me21 = (139 < {C}R) && ({C}R < 345) && ( 789 < abs({C}Z)) && (abs({C}Z) <  850) && (500 <= {C}Size);\n",
    "auto me22 = (357 < {C}R) && ({C}R < 700) && ( 791 < abs({C}Z)) && (abs({C}Z) <  850) && (200 <= {C}Size);\n",
    "auto me31 = (160 < {C}R) && ({C}R < 345) && ( 915 < abs({C}Z)) && (abs({C}Z) <  970) && (500 <= {C}Size);\n",
    "auto me32 = (357 < {C}R) && ({C}R < 700) && ( 911 < abs({C}Z)) && (abs({C}Z) <  970) && (200 <= {C}Size);\n",
    "auto me41 = (178 < {C}R) && ({C}R < 345) && (1002 < abs({C}Z)) && (abs({C}Z) < 1063) && (500 <= {C}Size);\n",
    "auto me42 = (357 < {C}R) && ({C}R < 700) && (1002 < abs({C}Z)) && (abs({C}Z) < 1063) && (200 <= {C}Size);\n",
    "return ( me11 || me12 || me13 || me21 || me22 || me31 || me32 || me41 || me42 );\n",
    "\"\"\".replace(\"{C}\", C)\n",
    "\n",
    "################\n",
    "for key, rdf in rdfs.items():\n",
    "    count, weight = rdf.Count(), rdf.Sum(\"weight\")\n",
    "    print(f\"{key:>6}: N events = {count.GetValue():>10,} (weight = {weight.GetValue():>13,.2f})\")\n",
    "\n",
    "    rdf = rdf.Define(f\"{C}R\", f\"ROOT::VecOps::sqrt( {C}X*{C}X +{C}Y*{C}Y )\")\n",
    "    rdf = rdf.Define(f\"{D}R\", f\"ROOT::VecOps::sqrt( {D}X*{D}X +{D}Y*{D}Y )\")\n",
    "    rdf = rdf.Define(f\"{C}ME1\", f\"{C}NRechitChamberPlus11 + {C}NRechitChamberMinus11 + {C}NRechitChamberPlus12 + {C}NRechitChamberMinus12\")\n",
    "    rdf = rdf.Define(f\"{D}MB1\", f\"{D}MB1\")\n",
    "    # rdf = rdf.Define(f\"{C}DNN\", f\"Take({C}DNN_bkgMC_plusBeamHalo, nCscRechitClusters)\")\n",
    "\n",
    "    # rdf = rdf.Define(\"pass_csc_gllp\", csc_gllp_req)\n",
    "    # rdf = rdf.Define(\"pass_dt_gllp\", dt_gllp_req)\n",
    "\n",
    "    rdf = rdf.Define(\"pass_hlt_csccsc\", \"HLTDecision[566]\")\n",
    "    rdf = rdf.Define(\"pass_hlt_cscdt\", \"HLTDecision[569]\")\n",
    "\n",
    "    rdf = rdf.Define(\"pass_csc_l1_pl\", l1_plateau_req)\n",
    "    rdf = rdf.Define(\"pass_csc_me1\", f\"{C}ME1 == 0\")\n",
    "    rdf = rdf.Define(\"pass_dt_mb1\", f\"{D}MB1 == 0\")\n",
    "\n",
    "    rdf = rdf.Define(\"pass_csc_time\", f\"(-5 < {C}TimeWeighted) && ({C}TimeWeighted < 12.5)\")\n",
    "    rdf = rdf.Define(\"pass_csc_tspread\", f\"{C}TimeSpreadWeightedAll < 20\")\n",
    "\n",
    "    rdf = rdf.Define(\"pass_csc_jet\", f\"{C}JetVetoPt < {MAX_CSC_JET_PT}\")\n",
    "    rdf = rdf.Define(\"pass_dt_jet\", f\"{D}JetVetoPt < {MAX_DT_JET_PT}\")\n",
    "    rdf = rdf.Define(\"pass_csc_muon\", f\"!( ({C}MuonVetoGlobal>0) && ({C}MuonVetoPt>{MAX_CSC_MUON_PT}) )\")\n",
    "    rdf = rdf.Define(\"pass_dt_muon\", f\"!( ({D}MuonVetoLooseId>0) && ({D}MuonVetoPt>{MAX_DT_MUON_PT}) )\")\n",
    "\n",
    "    # rdf = rdf.Define(\"pass_dnn\", f\"{C}DNN > {MIN_DNN}\")\n",
    "\n",
    "\n",
    "    # Now apply our trigger level selections\n",
    "    rdf = rdf.Filter(\"(pass_hlt_csccsc || pass_hlt_cscdt) && (ROOT::VecOps::sum(pass_csc_me1 && pass_csc_l1_pl) > 0)\")\n",
    "    count, weight = rdf.Count(), rdf.Sum(\"weight\")\n",
    "    print(f\"{key:>6}: N events = {count.GetValue():>10,} (weight = {weight.GetValue():>13,.2f})\")\n",
    "\n",
    "    rdfs[key] = rdf\n"
   ]
  },
  {
   "cell_type": "code",
   "execution_count": 2,
   "metadata": {},
   "outputs": [
    {
     "ename": "NameError",
     "evalue": "name 'rdfs' is not defined",
     "output_type": "error",
     "traceback": [
      "\u001b[0;31m---------------------------------------------------------------------------\u001b[0m",
      "\u001b[0;31mNameError\u001b[0m                                 Traceback (most recent call last)",
      "Cell \u001b[0;32mIn[2], line 6\u001b[0m\n\u001b[1;32m      3\u001b[0m canvas \u001b[38;5;241m=\u001b[39m TCanvas(\u001b[38;5;124m\"\u001b[39m\u001b[38;5;124m\"\u001b[39m,\u001b[38;5;124m\"\u001b[39m\u001b[38;5;124m\"\u001b[39m,\u001b[38;5;241m800\u001b[39m,\u001b[38;5;241m800\u001b[39m)\n\u001b[1;32m      5\u001b[0m form \u001b[38;5;241m=\u001b[39m (\u001b[38;5;241m100\u001b[39m, \u001b[38;5;241m0\u001b[39m, \u001b[38;5;241m200\u001b[39m)\n\u001b[0;32m----> 6\u001b[0m \u001b[38;5;28;01mfor\u001b[39;00m irdf, (key, rdf) \u001b[38;5;129;01min\u001b[39;00m \u001b[38;5;28menumerate\u001b[39m(\u001b[43mrdfs\u001b[49m\u001b[38;5;241m.\u001b[39mitems()):\n\u001b[1;32m      7\u001b[0m     canvas\u001b[38;5;241m.\u001b[39mcd(irdf \u001b[38;5;241m+\u001b[39m \u001b[38;5;241m1\u001b[39m)\n\u001b[1;32m      8\u001b[0m     h \u001b[38;5;241m=\u001b[39m rdf\u001b[38;5;241m.\u001b[39mHisto1D((\u001b[38;5;124m\"\u001b[39m\u001b[38;5;124m\"\u001b[39m, \u001b[38;5;124m\"\u001b[39m\u001b[38;5;124m;Time Spread [ns];\u001b[39m\u001b[38;5;124m\"\u001b[39m, \u001b[38;5;241m*\u001b[39mform), \u001b[38;5;124mf\u001b[39m\u001b[38;5;124m\"\u001b[39m\u001b[38;5;132;01m{\u001b[39;00mC\u001b[38;5;132;01m}\u001b[39;00m\u001b[38;5;124mTimeSpreadWeightedAll\u001b[39m\u001b[38;5;124m\"\u001b[39m, \u001b[38;5;124m\"\u001b[39m\u001b[38;5;124mweight\u001b[39m\u001b[38;5;124m\"\u001b[39m)\n",
      "\u001b[0;31mNameError\u001b[0m: name 'rdfs' is not defined"
     ]
    }
   ],
   "source": [
    "# canvas = TCanvas(\"\",\"\",800,800)\n",
    "# canvas.Divide(2, 1)\n",
    "canvas = TCanvas(\"\",\"\",800,800)\n",
    "\n",
    "form = (100, 0, 200)\n",
    "for irdf, (key, rdf) in enumerate(rdfs.items()):\n",
    "    canvas.cd(irdf + 1)\n",
    "    h = rdf.Histo1D((\"\", \";Time Spread [ns];\", *form), f\"{C}TimeSpreadWeightedAll\", \"weight\")\n",
    "    # h.Scale(1/rdf.Sum(\"weight\"))\n",
    "    h.SetLineColor(std_color_list[irdf])\n",
    "    h.Draw()\n",
    "    gc.append(h)\n",
    "\n",
    "canvas.Draw()"
   ]
  }
 ],
 "metadata": {
  "kernelspec": {
   "display_name": "pyroot",
   "language": "python",
   "name": "python3"
  },
  "language_info": {
   "codemirror_mode": {
    "name": "ipython",
    "version": 3
   },
   "file_extension": ".py",
   "mimetype": "text/x-python",
   "name": "python",
   "nbconvert_exporter": "python",
   "pygments_lexer": "ipython3",
   "version": "3.11.9"
  }
 },
 "nbformat": 4,
 "nbformat_minor": 2
}

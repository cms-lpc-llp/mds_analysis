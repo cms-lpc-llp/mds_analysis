{
 "cells": [
  {
   "cell_type": "code",
   "execution_count": 2,
   "metadata": {},
   "outputs": [
    {
     "name": "stdout",
     "output_type": "stream",
     "text": [
      "3.10.8 | packaged by conda-forge | (main, Nov 22 2022, 08:23:14) [GCC 10.4.0]\n"
     ]
    }
   ],
   "source": [
    "# limit for 2 tag\n",
    "import ROOT as rt\n",
    "# import root_numpy as rtnp\n",
    "import csv\n",
    "import re\n",
    "import sys\n",
    "import collections\n",
    "import os\n",
    "from collections import OrderedDict\n",
    "import uproot\n",
    "import pandas as pd\n",
    "\n",
    "import scipy\n",
    "import awkward\n",
    "import numpy as np\n",
    "import time\n",
    "import numba\n",
    "from numba import jit\n",
    "from matplotlib import pyplot as plt\n",
    "# sys.path.append('/storage/af/user/christiw/gpu/christiw/llp/delayed_jet_analyzer/lib/')\n",
    "from src.histo_utilities import create_TH1D, create_TH2D, std_color_list, create_TGraph, make_ratio_plot\n",
    "\n",
    "from src import CMS_lumi, tdrstyle\n",
    "tdrstyle.setTDRStyle()\n",
    "\n",
    "print(sys.version)"
   ]
  },
  {
   "cell_type": "code",
   "execution_count": null,
   "metadata": {},
   "outputs": [],
   "source": [
    "file_dir = '/storage/af/user/christiw/login-1/christiw/LLP/CMSSW_10_2_13/src/HiggsAnalysis/MuonSystemLimit/data/limits_others/'\n",
    "ms1_40 = file_dir + 'atlas_mh125_mx40_ms1.csv'\n",
    "ms2_40 = file_dir + 'atlas_mh125_mx40_ms2.csv'\n",
    "id55 = file_dir + 'atlas_mh125_mx55_id.csv'\n",
    "comb40 = file_dir + 'atlas_mh125_mx40_id_cr_ms2.csv'\n",
    "\n",
    "exo_19_021_bb55 = file_dir + 'exo-19-021_bb_55.csv'\n",
    "exo_19_021_bb40 = file_dir + 'exo-19-021_bb_40.csv'\n",
    "exo_19_021_dd55 = file_dir + 'exo-19-021_dd_55.csv'\n",
    "exo_19_021_dd40 = file_dir + 'exo-19-021_dd_40.csv'\n",
    "exo_19_021_dd15 = file_dir + 'exo-19-021_dd_15.csv'\n",
    "\n",
    "\n",
    "# took from paper draft v5\n",
    "exo_20_003_bb55 = file_dir + 'exo-20-003_bb_55.csv'\n",
    "exo_20_003_bb40 = file_dir + 'exo-20-003_bb_40.csv'\n",
    "exo_20_003_bb15 = file_dir + 'exo-20-003_bb_15.csv'\n",
    "exo_20_003_dd55 = file_dir + 'exo-20-003_dd_55.csv'\n",
    "exo_20_003_dd40 = file_dir + 'exo-20-003_dd_40.csv'\n",
    "exo_20_003_dd15 = file_dir + 'exo-20-003_dd_15.csv'\n",
    "\n",
    "\n",
    "ms_40 = file_dir + 'atlas_mh125_mx40_ms.csv'\n",
    "ms_15 = file_dir + 'atlas_mh125_mx15_ms.csv'\n",
    "ms_8 = file_dir + 'atlas_mh125_mx8_ms.csv'\n",
    "\n",
    "\n",
    "other_limits = {}\n",
    "\n",
    "# other_limits['atlas_ms_40'] = np.genfromtxt(ms_40, delimiter=',')\n",
    "# other_limits['atlas_ms_15'] = np.genfromtxt(ms_15, delimiter=',')\n",
    "# other_limits['atlas_ms_8'] = np.genfromtxt(ms_8, delimiter=',')\n",
    "\n",
    "\n",
    "# # 'ms1_40' = np.genfromtxt(ms1_40, delimiter=',')\n",
    "# # 'ms2_40' = np.genfromtxt(ms2_40, delimiter=',')\n",
    "# # 'id55' = np.genfromtxt(id55, delimiter=',')\n",
    "# # 'comb40' = np.genfromtxt(comb40, delimiter=',')\n",
    "# other_limits['exo_19_021_bb55'] = np.genfromtxt(exo_19_021_bb55, delimiter=',')\n",
    "# other_limits['exo_19_021_bb40'] = np.genfromtxt(exo_19_021_bb40, delimiter=',')\n",
    "# other_limits['exo_19_021_dd55'] = np.genfromtxt(exo_19_021_dd55, delimiter=',')\n",
    "# other_limits['exo_19_021_dd40'] = np.genfromtxt(exo_19_021_dd40, delimiter=',')\n",
    "# other_limits['exo_19_021_dd15'] = np.genfromtxt(exo_19_021_dd15, delimiter=',')\n",
    "\n",
    "# # other_limits['exo_20_003_bb55'] = np.genfromtxt(exo_20_003_bb55, delimiter=',')\n",
    "# # other_limits['exo_20_003_bb40'] = np.genfromtxt(exo_20_003_bb40, delimiter=',')\n",
    "# other_limits['exo_20_003_bb15'] = np.genfromtxt(exo_20_003_bb15, delimiter=',')\n",
    "# # other_limits['exo_20_003_dd55'] = np.genfromtxt(exo_20_003_dd55, delimiter=',')\n",
    "# # other_limits['exo_20_003_dd40'] = np.genfromtxt(exo_20_003_dd40, delimiter=',')\n",
    "# # other_limits['exo_20_003_dd15'] = np.genfromtxt(exo_20_003_dd15, delimiter=',')"
   ]
  }
 ],
 "metadata": {
  "kernelspec": {
   "display_name": "rtenv",
   "language": "python",
   "name": "python3"
  },
  "language_info": {
   "codemirror_mode": {
    "name": "ipython",
    "version": 3
   },
   "file_extension": ".py",
   "mimetype": "text/x-python",
   "name": "python",
   "nbconvert_exporter": "python",
   "pygments_lexer": "ipython3",
   "version": "3.10.8"
  },
  "orig_nbformat": 4,
  "vscode": {
   "interpreter": {
    "hash": "8262f9b1e6202d35a6a9a02143e3f5613981c56d9f9f56275dc9facc09f932b9"
   }
  }
 },
 "nbformat": 4,
 "nbformat_minor": 2
}
